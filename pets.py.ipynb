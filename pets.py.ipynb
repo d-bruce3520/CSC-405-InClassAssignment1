{
 "cells": [
  {
   "cell_type": "code",
   "execution_count": 5,
   "id": "5a0a2f2c",
   "metadata": {},
   "outputs": [],
   "source": [
    "#pets.py\n",
    "\n",
    "class Pet:\n",
    "    def __init__ (self, name, species):\n",
    "        self.name = name\n",
    "        self.species = species\n",
    "        \n",
    "    def display(self):\n",
    "        print(\"{self.name} is a {self.species}.\")"
   ]
  }
 ],
 "metadata": {
  "kernelspec": {
   "display_name": "Python 3 (ipykernel)",
   "language": "python",
   "name": "python3"
  },
  "language_info": {
   "codemirror_mode": {
    "name": "ipython",
    "version": 3
   },
   "file_extension": ".py",
   "mimetype": "text/x-python",
   "name": "python",
   "nbconvert_exporter": "python",
   "pygments_lexer": "ipython3",
   "version": "3.11.4"
  }
 },
 "nbformat": 4,
 "nbformat_minor": 5
}
